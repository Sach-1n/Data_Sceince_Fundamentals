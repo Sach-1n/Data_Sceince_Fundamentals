{
 "cells": [
  {
   "cell_type": "markdown",
   "metadata": {},
   "source": [
    "## Hypothesis Testing"
   ]
  },
  {
   "cell_type": "markdown",
   "metadata": {},
   "source": [
    "Hypothesis Testing is nothing but testing of mean or variance parameter of a population. There is some establised claim i.e. Null Hypothesis and a new claim which we want to test i.e. Alternate Hypothesis.\\\n",
    "Now through Test Statistics we finally either Reject the Null Hypothesis or Fail to Reject.\n"
   ]
  },
  {
   "cell_type": "code",
   "execution_count": 6,
   "metadata": {},
   "outputs": [
    {
     "name": "stdout",
     "output_type": "stream",
     "text": [
      "   Rod_Number  Rough_Weight_x  Finished_Weight_y\n",
      "0           1           2.745              2.080\n",
      "1           2           2.700              2.045\n",
      "2           3           2.690              2.050\n",
      "3           4           2.680              2.005\n",
      "4           5           2.675              2.035\n"
     ]
    }
   ],
   "source": [
    "import pandas as pd\n",
    "df = pd.read_csv('rods.csv',sep ='\\t')\n",
    "print(df.head())\n",
    "\n",
    "# Let the NULL Hypothesis be that Finished weight of product is 2.\n",
    "# There is now an Alternate Hypothesis proposed that is Finished weight of product is not 2.\n",
    "# To test this we have to take average of all the Finished Weights say avg_weight.\n",
    "# Now we have to check if the value proposed in NULL Hypothsis is significantly different from the avg_weight or not.\n"
   ]
  },
  {
   "cell_type": "code",
   "execution_count": 7,
   "metadata": {},
   "outputs": [
    {
     "name": "stdout",
     "output_type": "stream",
     "text": [
      "Average Finished Weight = 2.0047999999999995\n"
     ]
    },
    {
     "data": {
      "text/plain": [
       "0"
      ]
     },
     "execution_count": 7,
     "metadata": {},
     "output_type": "execute_result"
    }
   ],
   "source": [
    "# Calculating the Average of the Finished Weights\n",
    "\n",
    "li = df['Finished_Weight_y'].to_list()\n",
    "\n",
    "sumli = 0\n",
    "for i in li:\n",
    "    sumli += i \n",
    "avgli = sumli/len(li)\n",
    "\n",
    "print(\"Average Finished Weight =\",avgli)\n",
    "0"
   ]
  },
  {
   "cell_type": "code",
   "execution_count": 8,
   "metadata": {},
   "outputs": [
    {
     "name": "stdout",
     "output_type": "stream",
     "text": [
      "Difference between Average Weight and assumed weight = 0.004799999999999471\n"
     ]
    }
   ],
   "source": [
    "# We notice that there is difference between the assumed weight (NULL Hypothesis i.e weight = 2)\n",
    "\n",
    "diff = avgli - 2\n",
    "print(\"Difference between Average Weight and assumed weight =\",diff)"
   ]
  },
  {
   "cell_type": "code",
   "execution_count": 9,
   "metadata": {},
   "outputs": [],
   "source": [
    "# Now we have to find if the difference is significant enough to Reject NULL Hypothesis\n",
    "# There are various method to find if the difference is significant enough. \n",
    "# These act as evidence to Reject or Accept NUll Hypothesis \n",
    "# Some are listed below :- \n",
    "# p-Test\n",
    "# t-Test\n",
    "# ANOVA\n",
    "# Fisher's LSD\n",
    "# Tukey's HSD"
   ]
  },
  {
   "cell_type": "markdown",
   "metadata": {},
   "source": [
    "### p - Test\n",
    "\n",
    "The value p represents the probability of obtaining a sample more extreme than the ones observed in data, assuming Null\n",
    "Hypothesis is true.\n",
    "In simpler words probality of rejecting NULL Hypothesis when it is true. \n",
    "Lower p-value represents evidence against Null Hypothesis."
   ]
  },
  {
   "cell_type": "code",
   "execution_count": 10,
   "metadata": {},
   "outputs": [
    {
     "name": "stdout",
     "output_type": "stream",
     "text": [
      "Allowed Difference from Assumption = 0.7871999999999999\n",
      "\n",
      "Null Hypothesis is Accepted\n"
     ]
    }
   ],
   "source": [
    "# It is generally assumed that p-value < 0.05 is significant enough evidence against Null Hypothesis.\n",
    "# Hence assuming p = 0.05\n",
    "\n",
    "n = len(li)\n",
    "sqrtn = n**(0.5)\n",
    "cal_diff = 1.64 * 2.4 / sqrtn  # Formula taken from Introduction to Mathematical Statistics (6.2.1)\n",
    "print(\"Allowed Difference from Assumption =\", cal_diff)\n",
    "print()\n",
    "\n",
    "if diff > cal_diff:\n",
    "    print(\"Null Hypothesis is Rejected\")\n",
    "else :\n",
    "    print(\"Null Hypothesis is Accepted\")"
   ]
  },
  {
   "cell_type": "markdown",
   "metadata": {},
   "source": [
    "## Cross Tabulation or Contingency Table"
   ]
  },
  {
   "cell_type": "markdown",
   "metadata": {},
   "source": [
    "Cross Tabulation is a table that shows distribution of two categorical variables one arranged in rows other arranged in columns.\\\n",
    "It is used to determine if two tables have association."
   ]
  },
  {
   "cell_type": "code",
   "execution_count": 11,
   "metadata": {},
   "outputs": [
    {
     "name": "stdout",
     "output_type": "stream",
     "text": [
      "  Gender  Age Range  Head Size  Brain Weight\n",
      "0   Male          1       4512          1530\n",
      "1   Male          1       3738          1297\n",
      "2   Male          1       4261          1335\n",
      "3   Male          1       3777          1282\n",
      "4   Male          1       4177          1590\n"
     ]
    }
   ],
   "source": [
    "df2 = pd.read_csv('dataset.csv')\n",
    "\n",
    "df2['Gender'] = df2['Gender'].replace([1],'Male')\n",
    "df2['Gender'] = df2['Gender'].replace([2],'Female')\n",
    "\n",
    "\n",
    "print(df2.head())"
   ]
  },
  {
   "cell_type": "code",
   "execution_count": 12,
   "metadata": {},
   "outputs": [
    {
     "data": {
      "text/html": [
       "<div>\n",
       "<style scoped>\n",
       "    .dataframe tbody tr th:only-of-type {\n",
       "        vertical-align: middle;\n",
       "    }\n",
       "\n",
       "    .dataframe tbody tr th {\n",
       "        vertical-align: top;\n",
       "    }\n",
       "\n",
       "    .dataframe thead th {\n",
       "        text-align: right;\n",
       "    }\n",
       "</style>\n",
       "<table border=\"1\" class=\"dataframe\">\n",
       "  <thead>\n",
       "    <tr style=\"text-align: right;\">\n",
       "      <th>Size &gt; 3500</th>\n",
       "      <th>False</th>\n",
       "      <th>True</th>\n",
       "      <th>Total</th>\n",
       "    </tr>\n",
       "    <tr>\n",
       "      <th>Gender</th>\n",
       "      <th></th>\n",
       "      <th></th>\n",
       "      <th></th>\n",
       "    </tr>\n",
       "  </thead>\n",
       "  <tbody>\n",
       "    <tr>\n",
       "      <th>Female</th>\n",
       "      <td>63</td>\n",
       "      <td>40</td>\n",
       "      <td>103</td>\n",
       "    </tr>\n",
       "    <tr>\n",
       "      <th>Male</th>\n",
       "      <td>29</td>\n",
       "      <td>105</td>\n",
       "      <td>134</td>\n",
       "    </tr>\n",
       "    <tr>\n",
       "      <th>Total</th>\n",
       "      <td>92</td>\n",
       "      <td>145</td>\n",
       "      <td>237</td>\n",
       "    </tr>\n",
       "  </tbody>\n",
       "</table>\n",
       "</div>"
      ],
      "text/plain": [
       "Size > 3500  False  True  Total\n",
       "Gender                         \n",
       "Female          63    40    103\n",
       "Male            29   105    134\n",
       "Total           92   145    237"
      ]
     },
     "execution_count": 12,
     "metadata": {},
     "output_type": "execute_result"
    }
   ],
   "source": [
    "# Making a Contingency Table using crosstab\n",
    "\n",
    "tab = pd.crosstab(df2.Gender, df2['Head Size']>3500, colnames = ['Size > 3500'], margins = True , margins_name = 'Total')\n",
    "tab"
   ]
  },
  {
   "cell_type": "code",
   "execution_count": 13,
   "metadata": {},
   "outputs": [
    {
     "name": "stdout",
     "output_type": "stream",
     "text": [
      "Value of Chi = 10.33239001061707\n"
     ]
    }
   ],
   "source": [
    "exp = [[0,0],[0,0]]\n",
    "exp[0][0] = (tab[0][0]/tab['Total'][0]) * tab[0]['Total']\n",
    "exp[1][0] = (tab[1][0]/tab['Total'][0]) * tab[1]['Total']\n",
    "exp[0][1] = (tab[0][1]/tab['Total'][1]) * tab[0]['Total']\n",
    "exp[1][1] = (tab[1][1]/tab['Total'][1]) * tab[1]['Total']\n",
    "\n",
    "chi = 0\n",
    "\n",
    "for i in range(2):\n",
    "    for j in range(2):\n",
    "        chi += (tab[i][j]-exp[i][j])**2/exp[i][j]\n",
    "        \n",
    "print(\"Value of Chi =\",chi)"
   ]
  }
 ],
 "metadata": {
  "kernelspec": {
   "display_name": "Python 3",
   "language": "python",
   "name": "python3"
  },
  "language_info": {
   "codemirror_mode": {
    "name": "ipython",
    "version": 3
   },
   "file_extension": ".py",
   "mimetype": "text/x-python",
   "name": "python",
   "nbconvert_exporter": "python",
   "pygments_lexer": "ipython3",
   "version": "3.8.2"
  }
 },
 "nbformat": 4,
 "nbformat_minor": 4
}
