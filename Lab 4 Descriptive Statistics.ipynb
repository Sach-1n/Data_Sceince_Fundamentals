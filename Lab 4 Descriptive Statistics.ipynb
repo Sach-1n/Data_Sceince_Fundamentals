{
 "cells": [
  {
   "cell_type": "markdown",
   "metadata": {},
   "source": [
    "# Lab Assignment 4  ( Descriptive Statistics )\n",
    "#### Name : Sachin Kohli\n",
    "#### Roll Number : 20123"
   ]
  },
  {
   "cell_type": "markdown",
   "metadata": {},
   "source": [
    "## Measure of Central Tendancy"
   ]
  },
  {
   "cell_type": "markdown",
   "metadata": {},
   "source": [
    "### Mean "
   ]
  },
  {
   "cell_type": "code",
   "execution_count": 213,
   "metadata": {},
   "outputs": [
    {
     "data": {
      "text/html": [
       "<div>\n",
       "<style scoped>\n",
       "    .dataframe tbody tr th:only-of-type {\n",
       "        vertical-align: middle;\n",
       "    }\n",
       "\n",
       "    .dataframe tbody tr th {\n",
       "        vertical-align: top;\n",
       "    }\n",
       "\n",
       "    .dataframe thead th {\n",
       "        text-align: right;\n",
       "    }\n",
       "</style>\n",
       "<table border=\"1\" class=\"dataframe\">\n",
       "  <thead>\n",
       "    <tr style=\"text-align: right;\">\n",
       "      <th></th>\n",
       "      <th>Sr. No.</th>\n",
       "      <th>Date</th>\n",
       "      <th>Versus</th>\n",
       "      <th>D/N</th>\n",
       "      <th>How Dismissed</th>\n",
       "      <th>Runs</th>\n",
       "      <th>BF</th>\n",
       "      <th>SR</th>\n",
       "      <th>Aggr</th>\n",
       "      <th>Avg</th>\n",
       "      <th>TSR</th>\n",
       "    </tr>\n",
       "  </thead>\n",
       "  <tbody>\n",
       "    <tr>\n",
       "      <th>0</th>\n",
       "      <td>1</td>\n",
       "      <td>23-12-2004</td>\n",
       "      <td>Bangladesh</td>\n",
       "      <td>No</td>\n",
       "      <td>run out</td>\n",
       "      <td>0</td>\n",
       "      <td>1</td>\n",
       "      <td>0</td>\n",
       "      <td>0</td>\n",
       "      <td>0.00</td>\n",
       "      <td>0.00</td>\n",
       "    </tr>\n",
       "    <tr>\n",
       "      <th>1</th>\n",
       "      <td>2</td>\n",
       "      <td>26-12-2004</td>\n",
       "      <td>Bangladesh</td>\n",
       "      <td>Yes</td>\n",
       "      <td>c Habibul Bashar b Mashrafe Mortaza</td>\n",
       "      <td>12</td>\n",
       "      <td>11</td>\n",
       "      <td>109.09</td>\n",
       "      <td>12</td>\n",
       "      <td>6.00</td>\n",
       "      <td>100.00</td>\n",
       "    </tr>\n",
       "    <tr>\n",
       "      <th>2</th>\n",
       "      <td>3</td>\n",
       "      <td>27-12-2004</td>\n",
       "      <td>Bangladesh</td>\n",
       "      <td>Yes</td>\n",
       "      <td>not out</td>\n",
       "      <td>7</td>\n",
       "      <td>2</td>\n",
       "      <td>350</td>\n",
       "      <td>19</td>\n",
       "      <td>9.50</td>\n",
       "      <td>135.71</td>\n",
       "    </tr>\n",
       "    <tr>\n",
       "      <th>3</th>\n",
       "      <td>4</td>\n",
       "      <td>02-04-2005</td>\n",
       "      <td>Pakistan</td>\n",
       "      <td>No</td>\n",
       "      <td>c Naved-ul-Hasan b Arshad Khan</td>\n",
       "      <td>3</td>\n",
       "      <td>7</td>\n",
       "      <td>42.86</td>\n",
       "      <td>22</td>\n",
       "      <td>7.33</td>\n",
       "      <td>104.76</td>\n",
       "    </tr>\n",
       "    <tr>\n",
       "      <th>4</th>\n",
       "      <td>5</td>\n",
       "      <td>05-04-2005</td>\n",
       "      <td>Pakistan</td>\n",
       "      <td>No</td>\n",
       "      <td>c Shoaib Malik b Mohammad Hafeez</td>\n",
       "      <td>148</td>\n",
       "      <td>123</td>\n",
       "      <td>120.33</td>\n",
       "      <td>170</td>\n",
       "      <td>42.50</td>\n",
       "      <td>118.06</td>\n",
       "    </tr>\n",
       "  </tbody>\n",
       "</table>\n",
       "</div>"
      ],
      "text/plain": [
       "   Sr. No.        Date      Versus  D/N                        How Dismissed  \\\n",
       "0        1  23-12-2004  Bangladesh   No                              run out   \n",
       "1        2  26-12-2004  Bangladesh  Yes  c Habibul Bashar b Mashrafe Mortaza   \n",
       "2        3  27-12-2004  Bangladesh  Yes                              not out   \n",
       "3        4  02-04-2005    Pakistan   No       c Naved-ul-Hasan b Arshad Khan   \n",
       "4        5  05-04-2005    Pakistan   No     c Shoaib Malik b Mohammad Hafeez   \n",
       "\n",
       "  Runs   BF      SR  Aggr    Avg    TSR   \n",
       "0    0    1       0     0   0.00    0.00  \n",
       "1   12   11  109.09    12   6.00  100.00  \n",
       "2    7    2     350    19   9.50  135.71  \n",
       "3    3    7   42.86    22   7.33  104.76  \n",
       "4  148  123  120.33   170  42.50  118.06  "
      ]
     },
     "execution_count": 213,
     "metadata": {},
     "output_type": "execute_result"
    }
   ],
   "source": [
    "import pandas as pd\n",
    "\n",
    "df = pd.read_csv('msd_odi.csv') # This csv files contains each ODI international match MS Dhoni has played in his career\n",
    "df.head()"
   ]
  },
  {
   "cell_type": "code",
   "execution_count": 214,
   "metadata": {},
   "outputs": [
    {
     "name": "stdout",
     "output_type": "stream",
     "text": [
      "Mean of the Strike Rate = 87.94397306397306\n"
     ]
    }
   ],
   "source": [
    "li = df['SR'].tolist()\n",
    "\n",
    "sum = 0\n",
    "count = 0\n",
    "for i in li:\n",
    "    try:\n",
    "        add = float(i)\n",
    "        sum = sum + add\n",
    "        count += 1\n",
    "    except ValueError:\n",
    "        continue\n",
    "        \n",
    "mean = sum/count\n",
    "print('Mean of the Strike Rate = '+ str(mean))\n"
   ]
  },
  {
   "cell_type": "markdown",
   "metadata": {},
   "source": [
    "### Mode"
   ]
  },
  {
   "cell_type": "code",
   "execution_count": 215,
   "metadata": {},
   "outputs": [
    {
     "name": "stdout",
     "output_type": "stream",
     "text": [
      "Bangladesh = 21\n",
      "Pakistan = 36\n",
      "Sri Lanka = 67\n",
      "West Indies = 39\n",
      "New Zealand = 28\n",
      "Zimbabwe = 6\n",
      "South Africa = 37\n",
      "England = 48\n",
      "Australia = 55\n",
      "Bermuda = 1\n",
      "ACA Africa XI = 3\n",
      "Scotland = 1\n",
      "Hong Kong = 2\n",
      "Ireland = 2\n",
      "Netherlands = 1\n",
      "United Arab Emirates = 1\n",
      "Afghanistan = 2\n",
      "\n",
      "\n",
      "Mode is the data point with most frequency hence we can calculate Mode from non-numerical data also\n",
      "Mode of the dataset that is with most number of occurences is Sri Lanka\n",
      "This is the team MS Dhoni has played against the most in his ODI career\n",
      "\n",
      "Mode =  Sri Lanka\n"
     ]
    }
   ],
   "source": [
    "\n",
    "\n",
    "# Mode is the data point with most frequency hence we can calculate median from non-numerical data also.\n",
    "li = df['Versus'].tolist()\n",
    "played = {}\n",
    "for i in li:\n",
    "    try :\n",
    "        played[i] += 1\n",
    "    except KeyError:\n",
    "        played[i] = 1\n",
    "maxx = 0\n",
    "for i in played:\n",
    "    print(i +' = '+ str(played[i]))\n",
    "    if played[i] > maxx:\n",
    "        maxx = played[i]\n",
    "        j = i\n",
    "\n",
    "\n",
    "print('\\n\\nMode is the data point with most frequency hence we can calculate Mode from non-numerical data also')\n",
    "print('Mode of the dataset that is with most number of occurences is',j)\n",
    "print('This is the team MS Dhoni has played against the most in his ODI career')\n",
    "print('\\nMode = ',j)\n",
    "\n",
    "\n",
    "    \n",
    "    "
   ]
  },
  {
   "cell_type": "markdown",
   "metadata": {},
   "source": [
    "###  Median"
   ]
  },
  {
   "cell_type": "code",
   "execution_count": 216,
   "metadata": {},
   "outputs": [
    {
     "name": "stdout",
     "output_type": "stream",
     "text": [
      "Median = 31\n",
      "This is the Median of runs scored by MS Dhoni in ODI career\n"
     ]
    }
   ],
   "source": [
    "# If total number of elements are odd then median is the middle element otherwise its the average of the two middle elements.\n",
    "li = df['Runs'].tolist()\n",
    "runs = []\n",
    "\n",
    "for i in li:\n",
    "    try:\n",
    "        r = int(i)\n",
    "        runs.append(r)\n",
    "    except ValueError:\n",
    "        continue\n",
    "\n",
    "runs.sort()\n",
    "\n",
    "total = len(runs)\n",
    "index = 0\n",
    "\n",
    "if total % 2 == 1:\n",
    "    index = int((total - 1) / 2)\n",
    "    median = runs[index]\n",
    "    \n",
    "else:\n",
    "    index = int((total - 1) / 2)\n",
    "    median = (runs[index]+runs[index+1])/2\n",
    "\n",
    "print('Median =',median)        \n",
    "print('This is the Median of runs scored by MS Dhoni in ODI career')"
   ]
  },
  {
   "cell_type": "markdown",
   "metadata": {},
   "source": [
    "## Measure of Positions "
   ]
  },
  {
   "cell_type": "markdown",
   "metadata": {},
   "source": [
    "### Quartiles\n",
    "*Consider a series of numbers there are 3 numbers which divide the series into 4 equal parts\\\n",
    "These 3 numbers are known as Quartiles of the Series represented by Q1, Q2 and Q3* \\\n",
    "*Q3 - Q1 is known as Inter-Quartile Range\\\n",
    "Q2 is also the median of the series*"
   ]
  },
  {
   "cell_type": "code",
   "execution_count": 217,
   "metadata": {},
   "outputs": [
    {
     "name": "stdout",
     "output_type": "stream",
     "text": [
      "First Quartile, Q1 = 13.0\n",
      "Second Quartile, Q2 = 31.0\n",
      "Third Quartile, Q3 = 51.0\n"
     ]
    }
   ],
   "source": [
    "# Consider the series which is used previously namely runs[] \n",
    "# Which represents the number of runs MS Dhoni scored in each macth of ODI\n",
    "import math as m\n",
    "\n",
    "total = len(runs)\n",
    "\n",
    "q1 = (total+1)/4\n",
    "q2 = 2*q1\n",
    "q3 = 3*q1\n",
    "\n",
    "Q1 = (runs[m.floor(q1)-1] + runs[m.ceil(q1)-1])/2\n",
    "Q2 = (runs[m.floor(q2)-1] + runs[m.ceil(q2)-1])/2\n",
    "Q3 = (runs[m.floor(q3)-1] + runs[m.ceil(q3)-1])/2\n",
    "\n",
    "print('First Quartile, Q1 =',Q1)\n",
    "print('Second Quartile, Q2 =',Q2)\n",
    "print('Third Quartile, Q3 =',Q3)\n"
   ]
  },
  {
   "cell_type": "code",
   "execution_count": 218,
   "metadata": {},
   "outputs": [
    {
     "data": {
      "image/png": "[encoded data removed]",
      "text/plain": [
       "<Figure size 1080x648 with 1 Axes>"
      ]
     },
     "metadata": {
      "needs_background": "light"
     },
     "output_type": "display_data"
    }
   ],
   "source": [
    "# Plotting graphs for quartile\n",
    "import matplotlib.pyplot as plt\n",
    "fig = plt.figure(figsize = (15, 9)) \n",
    "plt.scatter(range(len(runs)), runs, s = 10)\n",
    "plt.scatter(q1, Q1, color = 'Red')\n",
    "plt.annotate('Q1',(q1, Q1), size =20, xytext = (q1-10, Q1+9))\n",
    "plt.scatter(q2, Q2, color = 'Red')\n",
    "plt.annotate('Q2',(q2, Q2), size =20, xytext = (q2-10, Q2+9))\n",
    "plt.scatter(q3, Q3, color = 'Red')\n",
    "plt.annotate('Q3',(q3, Q3), size =20, xytext = (q3-10, Q3+9))\n",
    "plt.ylabel('Runs scored per match')\n",
    "plt.show()"
   ]
  },
  {
   "cell_type": "markdown",
   "metadata": {},
   "source": [
    "### Deciles\n",
    "Decile is similar  to quartile but here we divide the series into 10 equal parts\\\n",
    "Total deciles are 9 these numbers divide the series into 10 equal parts\\\n",
    "5th decile is equal to the median of series"
   ]
  },
  {
   "cell_type": "code",
   "execution_count": 219,
   "metadata": {},
   "outputs": [
    {
     "name": "stdout",
     "output_type": "stream",
     "text": [
      "First Decile = 4.0\n",
      "Second Decile = 10.0\n",
      "Third Decile = 16.0\n",
      "Fourth Decile = 24.0\n",
      "Fifth Decile = 31.0\n",
      "Sixth Decile = 37.5\n",
      "Seventh Decile = 47.0\n",
      "Eighth Decile = 58.0\n",
      "Ninth Decile = 76.0\n"
     ]
    }
   ],
   "source": [
    "# Consider the series which is used previously namely runs[] \n",
    "# Which represents the number of runs MS Dhoni scored in each macth of ODI\n",
    "# We will use the same list here also\n",
    "\n",
    "total = len(runs)\n",
    "\n",
    "d1 = (total+1)/10\n",
    "d2 = 2*d1\n",
    "d3 = 3*d1\n",
    "d4 = 4*d1\n",
    "d5 = 5*d1\n",
    "d6 = 6*d1\n",
    "d7 = 7*d1\n",
    "d8 = 8*d1\n",
    "d9 = 9*d1\n",
    "\n",
    "D1 = (runs[m.floor(d1)-1] + runs[m.ceil(d1)-1])/2\n",
    "D2 = (runs[m.floor(d2)-1] + runs[m.ceil(d2)-1])/2\n",
    "D3 = (runs[m.floor(d3)-1] + runs[m.ceil(d3)-1])/2\n",
    "D4 = (runs[m.floor(d4)-1] + runs[m.ceil(d4)-1])/2\n",
    "D5 = (runs[m.floor(d5)-1] + runs[m.ceil(d5)-1])/2\n",
    "D6 = (runs[m.floor(d6)-1] + runs[m.ceil(d6)-1])/2\n",
    "D7 = (runs[m.floor(d7)-1] + runs[m.ceil(d7)-1])/2\n",
    "D8 = (runs[m.floor(d8)-1] + runs[m.ceil(d8)-1])/2\n",
    "D9 = (runs[m.floor(d9)-1] + runs[m.ceil(d9)-1])/2\n",
    "\n",
    "print('First Decile =',D1)\n",
    "print('Second Decile =',D2)\n",
    "print('Third Decile =',D3)\n",
    "print('Fourth Decile =',D4)\n",
    "print('Fifth Decile =',D5)\n",
    "print('Sixth Decile =',D6)\n",
    "print('Seventh Decile =',D7)\n",
    "print('Eighth Decile =',D8)\n",
    "print('Ninth Decile =',D9)\n",
    "\n"
   ]
  },
  {
   "cell_type": "code",
   "execution_count": 220,
   "metadata": {},
   "outputs": [
    {
     "data": {
      "image/png": "[encoded data removed]",
      "text/plain": [
       "<Figure size 1080x648 with 1 Axes>"
      ]
     },
     "metadata": {
      "needs_background": "light"
     },
     "output_type": "display_data"
    }
   ],
   "source": [
    "# Graph for the deciles\n",
    "\n",
    "fig = plt.figure(figsize = (15, 9)) \n",
    "plt.scatter(range(len(runs)), runs, s = 10)\n",
    "\n",
    "plt.scatter(d1, D1, color = 'Red')\n",
    "plt.annotate('D1',(d1, D1), size =20, xytext = (d1-10, D1+9))\n",
    "plt.scatter(d2, D2, color = 'Red')\n",
    "plt.annotate('D2',(d2, D2), size =20, xytext = (d2-10, D2+9))\n",
    "plt.scatter(d3, D3, color = 'Red')\n",
    "plt.annotate('D3',(d3, D3), size =20, xytext = (d3-10, D3+9))\n",
    "plt.scatter(d4, D4, color = 'Red')\n",
    "plt.annotate('D4',(d4, D4), size =20, xytext = (d4-10, D4+9))\n",
    "plt.scatter(d5, D5, color = 'Red')\n",
    "plt.annotate('D5',(d5, D5), size =20, xytext = (d5-10, D5+9))\n",
    "plt.scatter(d6, D6, color = 'Red')\n",
    "plt.annotate('D6',(d6, D6), size =20, xytext = (d6-10, D6+9))\n",
    "plt.scatter(d7, D7, color = 'Red')\n",
    "plt.annotate('D7',(d7, D7), size =20, xytext = (d7-10, D7+9))\n",
    "plt.scatter(d8, D8, color = 'Red')\n",
    "plt.annotate('D8',(d8, D8), size =20, xytext = (d8-10, D8+9))\n",
    "plt.scatter(d9, D9, color = 'Red')\n",
    "plt.annotate('D9',(d9, D9), size =20, xytext = (d9-10, D9+9))\n",
    "\n",
    "plt.ylabel('Runs scored per match')\n",
    "plt.show()"
   ]
  },
  {
   "cell_type": "markdown",
   "metadata": {},
   "source": [
    "### Percentiles\n",
    "Percentile means per hundred. Its a statistical measure which indicates what percentage of the of data falls below or equal to to a particular value.\\\n",
    "In other words we can say that percentile of a particular value is number of values below or equal to it by total number of values multiply by 100.\\\n",
    "For example, in this case if we take 183 which is the highest runs scored by Dhoni is the 100 percentile value.\n",
    "\n"
   ]
  },
  {
   "cell_type": "code",
   "execution_count": 221,
   "metadata": {},
   "outputs": [
    {
     "name": "stdout",
     "output_type": "stream",
     "text": [
      "For Percentile 50%   Value = 31.0\n",
      "For Percentile 60%   Value = 37.5\n",
      "For Percentile 70%   Value = 47.0\n",
      "For Percentile 80%   Value = 57.0\n",
      "For Percentile 95%   Value = 91.0\n",
      "For Percentile 100%   Value = 183.0\n"
     ]
    }
   ],
   "source": [
    "# Using the same list of data which is runs scored per match by MS Dhoni is his entire career.\n",
    "\n",
    "p = [50,60,70,80,95,100]  # only these percentiles will be calculated\n",
    "\n",
    "index = []\n",
    "value = []\n",
    "\n",
    "total = len(runs)\n",
    "\n",
    "for i in p:\n",
    "    ind = (total * i / 100)-1\n",
    "    index.append(ind)\n",
    "    value.append((runs[m.ceil(ind)]+runs[m.floor(ind)])/2)\n",
    "    \n",
    "for i,v in enumerate(value):\n",
    "    print(\"For Percentile {}%   Value = {}\".format(p[i],v))\n",
    "\n"
   ]
  },
  {
   "cell_type": "code",
   "execution_count": 222,
   "metadata": {},
   "outputs": [
    {
     "data": {
      "image/png": "[encoded data removed]",
      "text/plain": [
       "<Figure size 1080x648 with 1 Axes>"
      ]
     },
     "metadata": {
      "needs_background": "light"
     },
     "output_type": "display_data"
    }
   ],
   "source": [
    "# Graph for percentile\n",
    "\n",
    "\n",
    "fig = plt.figure(figsize = (15, 9)) \n",
    "plt.scatter(range(len(runs)), runs, s = 10)\n",
    "\n",
    "for i,v in enumerate(value):\n",
    "    plt.scatter(int(index[i]), v, color = 'Red')\n",
    "    plt.annotate('{} %'.format(p[i]),(int(index[i]),v), xytext = (int(index[i])-1, v+5))\n",
    "\n",
    "plt.ylabel('Runs scored per match')\n",
    "plt.show()"
   ]
  },
  {
   "cell_type": "markdown",
   "metadata": {},
   "source": [
    "### Quantile\n",
    "Quantile is nothing but dividing the distribution in different sections. Median(0.5 Quantile), Quartile, Decile and Pecentile all are examples of Quantile."
   ]
  },
  {
   "cell_type": "markdown",
   "metadata": {},
   "source": [
    "## Measure of Dispersion"
   ]
  },
  {
   "cell_type": "markdown",
   "metadata": {},
   "source": [
    "### Range\n",
    "It is the difference between the highest and lowest value."
   ]
  },
  {
   "cell_type": "code",
   "execution_count": 223,
   "metadata": {},
   "outputs": [
    {
     "name": "stdout",
     "output_type": "stream",
     "text": [
      "\n",
      "Range = 183\n",
      "\n"
     ]
    }
   ],
   "source": [
    "# Since runs list is a sorted hence item in list is highest and 1 item is lowest.\n",
    "\n",
    "Range = runs[len(runs)-1]-runs[0]\n",
    "print(\"\\nRange = {}\\n\".format(Range))"
   ]
  },
  {
   "cell_type": "markdown",
   "metadata": {},
   "source": [
    "### Median"
   ]
  },
  {
   "cell_type": "code",
   "execution_count": 224,
   "metadata": {},
   "outputs": [
    {
     "name": "stdout",
     "output_type": "stream",
     "text": [
      "Median = 31\n"
     ]
    }
   ],
   "source": [
    "# We have already calculated the median above\n",
    "\n",
    "print(\"Median =\",median)"
   ]
  },
  {
   "cell_type": "markdown",
   "metadata": {},
   "source": [
    "### Absolute Deviation from Median\n",
    "As the name suggest it is the difference of value from the median of the distribution."
   ]
  },
  {
   "cell_type": "code",
   "execution_count": 225,
   "metadata": {},
   "outputs": [
    {
     "name": "stdout",
     "output_type": "stream",
     "text": [
      "Absolute Deviation from Median = 12\n"
     ]
    }
   ],
   "source": [
    "# Lets consider a random index 100 now we will calculate the Deviation\n",
    "\n",
    "value = runs[100]\n",
    "deviation = abs(value - median)\n",
    "print(\"Absolute Deviation from Median =\",deviation)"
   ]
  },
  {
   "cell_type": "markdown",
   "metadata": {},
   "source": [
    "### Variance\n",
    "Variance is the expectation of the squared deviation of a random variable from its mean\\\n",
    "*Variance = ( value[i] - mean )^2 / (n-1)* \\\n",
    "Here we have taken the formula for variance for samples not population"
   ]
  },
  {
   "cell_type": "code",
   "execution_count": 226,
   "metadata": {},
   "outputs": [
    {
     "name": "stdout",
     "output_type": "stream",
     "text": [
      "Mean = 36.27272727272727\n",
      "Variance = 893.4287469287465\n"
     ]
    }
   ],
   "source": [
    "# Calculating the mean\n",
    "\n",
    "total = len(runs)\n",
    "add = 0\n",
    "for i in runs:\n",
    "    add += i\n",
    "\n",
    "mean = add/total\n",
    "print(\"Mean =\",mean)\n",
    "\n",
    "# Calculating the Variance\n",
    "summ = 0\n",
    "for i in runs:\n",
    "    val = i - mean\n",
    "    summ += pow(val,2)\n",
    "    \n",
    "variance = summ / (total - 1)\n",
    "\n",
    "print(\"Variance =\",variance)\n"
   ]
  },
  {
   "cell_type": "markdown",
   "metadata": {},
   "source": [
    "### Standard Deviation\n",
    "The Standard Deviation is a measure of how spread out numbers are.\\\n",
    "It can be calculation by square root of variance"
   ]
  },
  {
   "cell_type": "code",
   "execution_count": 227,
   "metadata": {},
   "outputs": [
    {
     "name": "stdout",
     "output_type": "stream",
     "text": [
      "\n",
      "Standard Deviation = 29.89027846857146\n"
     ]
    }
   ],
   "source": [
    "\n",
    "sd = m.sqrt(variance)\n",
    "print(\"\\nStandard Deviation =\",sd)"
   ]
  },
  {
   "cell_type": "markdown",
   "metadata": {},
   "source": [
    "## Measure of Distribution\n"
   ]
  },
  {
   "cell_type": "markdown",
   "metadata": {},
   "source": [
    "### Skewness\n",
    "In probability theory and statistics, skewness is a measure of the asymmetry of the probability distribution of a real-valued random variable about its mean.\\\n",
    "Formulae for Skewness = 3*(mean - median)/standard_deviation"
   ]
  },
  {
   "cell_type": "code",
   "execution_count": 228,
   "metadata": {},
   "outputs": [
    {
     "name": "stdout",
     "output_type": "stream",
     "text": [
      "Skewness = 1.3418631166589174\n"
     ]
    }
   ],
   "source": [
    "from scipy.stats import skew \n",
    "\n",
    "skewness = skew(runs)\n",
    "\n",
    "print(\"Skewness =\",skewness)"
   ]
  },
  {
   "cell_type": "markdown",
   "metadata": {},
   "source": [
    "### Kurtosis\n",
    "Kurtosis is a statistical measure that defines how heavily the tails of a distribution differ from the tails of a normal distribution"
   ]
  },
  {
   "cell_type": "code",
   "execution_count": 229,
   "metadata": {},
   "outputs": [
    {
     "name": "stdout",
     "output_type": "stream",
     "text": [
      "Kurtosis = 2.6303538226229746\n"
     ]
    }
   ],
   "source": [
    "\n",
    "from scipy.stats import kurtosis \n",
    "\n",
    "kurt = kurtosis(runs)\n",
    "\n",
    "print(\"Kurtosis =\",kurt)"
   ]
  },
  {
   "cell_type": "markdown",
   "metadata": {},
   "source": [
    "##  Box Plot or Whisker Plot\n",
    "Box plot is graphical representaion of distribution which at a glance gives as data such as Quartile 1, 2, 3, Interquartile Range, Minimun, Maximum and Outliers"
   ]
  },
  {
   "cell_type": "code",
   "execution_count": 230,
   "metadata": {},
   "outputs": [
    {
     "data": {
      "image/png": "[encoded data removed]",
      "text/plain": [
       "<Figure size 648x720 with 1 Axes>"
      ]
     },
     "metadata": {
      "needs_background": "light"
     },
     "output_type": "display_data"
    }
   ],
   "source": [
    "import matplotlib.pyplot as plt\n",
    "\n",
    "plt.figure(figsize =(9, 10)) \n",
    "plt.boxplot(runs)\n",
    "plt.scatter(1, Q1, color = 'Red')\n",
    "plt.annotate('Q1',(1, Q1), size = 15)\n",
    "plt.scatter(1, Q2, color = 'Red')\n",
    "plt.annotate('Q2',(1, Q2), size = 15)\n",
    "plt.scatter(1, Q3, color = 'Red')\n",
    "plt.annotate('Q3',(1, Q3), size = 15)\n",
    "plt.xlabel('MS Dhoni')\n",
    "plt.ylabel('Runs')\n",
    "plt.show()"
   ]
  }
 ],
 "metadata": {
  "kernelspec": {
   "display_name": "Python 3",
   "language": "python",
   "name": "python3"
  },
  "language_info": {
   "codemirror_mode": {
    "name": "ipython",
    "version": 3
   },
   "file_extension": ".py",
   "mimetype": "text/x-python",
   "name": "python",
   "nbconvert_exporter": "python",
   "pygments_lexer": "ipython3",
   "version": "3.8.2"
  }
 },
 "nbformat": 4,
 "nbformat_minor": 4
}
