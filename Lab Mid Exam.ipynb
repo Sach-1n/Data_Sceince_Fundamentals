{
 "cells": [
  {
   "cell_type": "markdown",
   "metadata": {},
   "source": [
    "## Sachin Kohli CS20123 Set : 1"
   ]
  },
  {
   "cell_type": "markdown",
   "metadata": {},
   "source": [
    "## Question 1"
   ]
  },
  {
   "cell_type": "code",
   "execution_count": 144,
   "metadata": {},
   "outputs": [
    {
     "name": "stdout",
     "output_type": "stream",
     "text": [
      "    mpg  cylinders  displacement  horsepower  weight  acceleration  year  \\\n",
      "0  18.0          8         307.0         130    3504          12.0    70   \n",
      "1  15.0          8         350.0         165    3693          11.5    70   \n",
      "2  18.0          8         318.0         150    3436          11.0    70   \n",
      "3  16.0          8         304.0         150    3433          12.0    70   \n",
      "4  17.0          8         302.0         140    3449          10.5    70   \n",
      "\n",
      "   origin                       name  \n",
      "0       1  chevrolet chevelle malibu  \n",
      "1       1          buick skylark 320  \n",
      "2       1         plymouth satellite  \n",
      "3       1              amc rebel sst  \n",
      "4       1                ford torino  \n"
     ]
    }
   ],
   "source": [
    "import pandas as pd\n",
    "import math\n",
    "df = pd.read_csv('auto.csv')\n",
    "print(df.head())"
   ]
  },
  {
   "cell_type": "code",
   "execution_count": 145,
   "metadata": {},
   "outputs": [
    {
     "name": "stdout",
     "output_type": "stream",
     "text": [
      "Median = 22.75\n",
      "\n"
     ]
    }
   ],
   "source": [
    "# Median of mpg \n",
    "\n",
    "li = df['mpg'].to_list()\n",
    "li.sort()\n",
    "total = len(li)\n",
    "index = 0\n",
    "\n",
    "if total % 2 == 1:\n",
    "    index = int((total - 1) / 2)\n",
    "    median = li[index]\n",
    "    \n",
    "else:\n",
    "    index = int((total - 1) / 2)\n",
    "    median = (li[index]+li[index+1])/2\n",
    "    \n",
    "print(\"Median =\",median)\n",
    "print()   "
   ]
  },
  {
   "cell_type": "code",
   "execution_count": 146,
   "metadata": {},
   "outputs": [
    {
     "name": "stdout",
     "output_type": "stream",
     "text": [
      "mpg\tmpg01\n",
      "18.0 \t 0\n",
      "15.0 \t 0\n",
      "18.0 \t 0\n",
      "16.0 \t 0\n",
      "17.0 \t 0\n",
      "15.0 \t 0\n",
      "14.0 \t 0\n",
      "14.0 \t 0\n",
      "14.0 \t 0\n",
      "15.0 \t 0\n",
      "15.0 \t 0\n",
      "14.0 \t 0\n",
      "15.0 \t 0\n",
      "14.0 \t 0\n",
      "24.0 \t 1\n",
      "22.0 \t 0\n",
      "18.0 \t 0\n",
      "21.0 \t 0\n",
      "27.0 \t 1\n",
      "26.0 \t 1\n",
      "25.0 \t 1\n",
      "24.0 \t 1\n",
      "25.0 \t 1\n",
      "26.0 \t 1\n",
      "21.0 \t 0\n",
      "10.0 \t 0\n",
      "10.0 \t 0\n",
      "11.0 \t 0\n",
      "9.0 \t 0\n",
      "27.0 \t 1\n",
      "28.0 \t 1\n",
      "25.0 \t 1\n",
      "19.0 \t 0\n",
      "16.0 \t 0\n",
      "17.0 \t 0\n",
      "19.0 \t 0\n",
      "18.0 \t 0\n",
      "14.0 \t 0\n",
      "14.0 \t 0\n",
      "14.0 \t 0\n",
      "14.0 \t 0\n",
      "12.0 \t 0\n",
      "13.0 \t 0\n",
      "13.0 \t 0\n",
      "18.0 \t 0\n",
      "22.0 \t 0\n",
      "19.0 \t 0\n",
      "18.0 \t 0\n",
      "23.0 \t 1\n",
      "28.0 \t 1\n",
      "30.0 \t 1\n",
      "30.0 \t 1\n",
      "31.0 \t 1\n",
      "35.0 \t 1\n",
      "27.0 \t 1\n",
      "26.0 \t 1\n",
      "24.0 \t 1\n",
      "25.0 \t 1\n",
      "23.0 \t 1\n",
      "20.0 \t 0\n",
      "21.0 \t 0\n",
      "13.0 \t 0\n",
      "14.0 \t 0\n",
      "15.0 \t 0\n",
      "14.0 \t 0\n",
      "17.0 \t 0\n",
      "11.0 \t 0\n",
      "13.0 \t 0\n",
      "12.0 \t 0\n",
      "13.0 \t 0\n",
      "19.0 \t 0\n",
      "15.0 \t 0\n",
      "13.0 \t 0\n",
      "13.0 \t 0\n",
      "14.0 \t 0\n",
      "18.0 \t 0\n",
      "22.0 \t 0\n",
      "21.0 \t 0\n",
      "26.0 \t 1\n",
      "22.0 \t 0\n",
      "28.0 \t 1\n",
      "23.0 \t 1\n",
      "28.0 \t 1\n",
      "27.0 \t 1\n",
      "13.0 \t 0\n",
      "14.0 \t 0\n",
      "13.0 \t 0\n",
      "14.0 \t 0\n",
      "15.0 \t 0\n",
      "12.0 \t 0\n",
      "13.0 \t 0\n",
      "13.0 \t 0\n",
      "14.0 \t 0\n",
      "13.0 \t 0\n",
      "12.0 \t 0\n",
      "13.0 \t 0\n",
      "18.0 \t 0\n",
      "16.0 \t 0\n",
      "18.0 \t 0\n",
      "18.0 \t 0\n",
      "23.0 \t 1\n",
      "26.0 \t 1\n",
      "11.0 \t 0\n",
      "12.0 \t 0\n",
      "13.0 \t 0\n",
      "12.0 \t 0\n",
      "18.0 \t 0\n",
      "20.0 \t 0\n",
      "21.0 \t 0\n",
      "22.0 \t 0\n",
      "18.0 \t 0\n",
      "19.0 \t 0\n",
      "21.0 \t 0\n",
      "26.0 \t 1\n",
      "15.0 \t 0\n",
      "16.0 \t 0\n",
      "29.0 \t 1\n",
      "24.0 \t 1\n",
      "20.0 \t 0\n",
      "19.0 \t 0\n",
      "15.0 \t 0\n",
      "24.0 \t 1\n",
      "20.0 \t 0\n",
      "11.0 \t 0\n",
      "20.0 \t 0\n",
      "19.0 \t 0\n",
      "15.0 \t 0\n",
      "31.0 \t 1\n",
      "26.0 \t 1\n",
      "32.0 \t 1\n",
      "25.0 \t 1\n",
      "16.0 \t 0\n",
      "16.0 \t 0\n",
      "18.0 \t 0\n",
      "16.0 \t 0\n",
      "13.0 \t 0\n",
      "14.0 \t 0\n",
      "14.0 \t 0\n",
      "14.0 \t 0\n",
      "29.0 \t 1\n",
      "26.0 \t 1\n",
      "26.0 \t 1\n",
      "31.0 \t 1\n",
      "32.0 \t 1\n",
      "28.0 \t 1\n",
      "24.0 \t 1\n",
      "26.0 \t 1\n",
      "24.0 \t 1\n",
      "26.0 \t 1\n",
      "31.0 \t 1\n",
      "19.0 \t 0\n",
      "18.0 \t 0\n",
      "15.0 \t 0\n",
      "15.0 \t 0\n",
      "16.0 \t 0\n",
      "15.0 \t 0\n",
      "16.0 \t 0\n",
      "14.0 \t 0\n",
      "17.0 \t 0\n",
      "16.0 \t 0\n",
      "15.0 \t 0\n",
      "18.0 \t 0\n",
      "21.0 \t 0\n",
      "20.0 \t 0\n",
      "13.0 \t 0\n",
      "29.0 \t 1\n",
      "23.0 \t 1\n",
      "20.0 \t 0\n",
      "23.0 \t 1\n",
      "24.0 \t 1\n",
      "25.0 \t 1\n",
      "24.0 \t 1\n",
      "18.0 \t 0\n",
      "29.0 \t 1\n",
      "19.0 \t 0\n",
      "23.0 \t 1\n",
      "23.0 \t 1\n",
      "22.0 \t 0\n",
      "25.0 \t 1\n",
      "33.0 \t 1\n",
      "28.0 \t 1\n",
      "25.0 \t 1\n",
      "25.0 \t 1\n",
      "26.0 \t 1\n",
      "27.0 \t 1\n",
      "17.5 \t 0\n",
      "16.0 \t 0\n",
      "15.5 \t 0\n",
      "14.5 \t 0\n",
      "22.0 \t 0\n",
      "22.0 \t 0\n",
      "24.0 \t 1\n",
      "22.5 \t 0\n",
      "29.0 \t 1\n",
      "24.5 \t 1\n",
      "29.0 \t 1\n",
      "33.0 \t 1\n",
      "20.0 \t 0\n",
      "18.0 \t 0\n",
      "18.5 \t 0\n",
      "17.5 \t 0\n",
      "29.5 \t 1\n",
      "32.0 \t 1\n",
      "28.0 \t 1\n",
      "26.5 \t 1\n",
      "20.0 \t 0\n",
      "13.0 \t 0\n",
      "19.0 \t 0\n",
      "19.0 \t 0\n",
      "16.5 \t 0\n",
      "16.5 \t 0\n",
      "13.0 \t 0\n",
      "13.0 \t 0\n",
      "13.0 \t 0\n",
      "31.5 \t 1\n",
      "30.0 \t 1\n",
      "36.0 \t 1\n",
      "25.5 \t 1\n",
      "33.5 \t 1\n",
      "17.5 \t 0\n",
      "17.0 \t 0\n",
      "15.5 \t 0\n",
      "15.0 \t 0\n",
      "17.5 \t 0\n",
      "20.5 \t 0\n",
      "19.0 \t 0\n",
      "18.5 \t 0\n",
      "16.0 \t 0\n",
      "15.5 \t 0\n",
      "15.5 \t 0\n",
      "16.0 \t 0\n",
      "29.0 \t 1\n",
      "24.5 \t 1\n",
      "26.0 \t 1\n",
      "25.5 \t 1\n",
      "30.5 \t 1\n",
      "33.5 \t 1\n",
      "30.0 \t 1\n",
      "30.5 \t 1\n",
      "22.0 \t 0\n",
      "21.5 \t 0\n",
      "21.5 \t 0\n",
      "43.1 \t 1\n",
      "36.1 \t 1\n",
      "32.8 \t 1\n",
      "39.4 \t 1\n",
      "36.1 \t 1\n",
      "19.9 \t 0\n",
      "19.4 \t 0\n",
      "20.2 \t 0\n",
      "19.2 \t 0\n",
      "20.5 \t 0\n",
      "20.2 \t 0\n",
      "25.1 \t 1\n",
      "20.5 \t 0\n",
      "19.4 \t 0\n",
      "20.6 \t 0\n",
      "20.8 \t 0\n",
      "18.6 \t 0\n",
      "18.1 \t 0\n",
      "19.2 \t 0\n",
      "17.7 \t 0\n",
      "18.1 \t 0\n",
      "17.5 \t 0\n",
      "30.0 \t 1\n",
      "27.5 \t 1\n",
      "27.2 \t 1\n",
      "30.9 \t 1\n",
      "21.1 \t 0\n",
      "23.2 \t 1\n",
      "23.8 \t 1\n",
      "23.9 \t 1\n",
      "20.3 \t 0\n",
      "17.0 \t 0\n",
      "21.6 \t 0\n",
      "16.2 \t 0\n",
      "31.5 \t 1\n",
      "29.5 \t 1\n",
      "21.5 \t 0\n",
      "19.8 \t 0\n",
      "22.3 \t 0\n",
      "20.2 \t 0\n",
      "20.6 \t 0\n",
      "17.0 \t 0\n",
      "17.6 \t 0\n",
      "16.5 \t 0\n",
      "18.2 \t 0\n",
      "16.9 \t 0\n",
      "15.5 \t 0\n",
      "19.2 \t 0\n",
      "18.5 \t 0\n",
      "31.9 \t 1\n",
      "34.1 \t 1\n",
      "35.7 \t 1\n",
      "27.4 \t 1\n",
      "25.4 \t 1\n",
      "23.0 \t 1\n",
      "27.2 \t 1\n",
      "23.9 \t 1\n",
      "34.2 \t 1\n",
      "34.5 \t 1\n",
      "31.8 \t 1\n",
      "37.3 \t 1\n",
      "28.4 \t 1\n",
      "28.8 \t 1\n",
      "26.8 \t 1\n",
      "33.5 \t 1\n",
      "41.5 \t 1\n",
      "38.1 \t 1\n",
      "32.1 \t 1\n",
      "37.2 \t 1\n",
      "28.0 \t 1\n",
      "26.4 \t 1\n",
      "24.3 \t 1\n",
      "19.1 \t 0\n",
      "34.3 \t 1\n",
      "29.8 \t 1\n",
      "31.3 \t 1\n",
      "37.0 \t 1\n",
      "32.2 \t 1\n",
      "46.6 \t 1\n",
      "27.9 \t 1\n",
      "40.8 \t 1\n",
      "44.3 \t 1\n",
      "43.4 \t 1\n",
      "36.4 \t 1\n",
      "30.0 \t 1\n",
      "44.6 \t 1\n",
      "33.8 \t 1\n",
      "29.8 \t 1\n",
      "32.7 \t 1\n",
      "23.7 \t 1\n",
      "35.0 \t 1\n",
      "32.4 \t 1\n",
      "27.2 \t 1\n",
      "26.6 \t 1\n",
      "25.8 \t 1\n",
      "23.5 \t 1\n",
      "30.0 \t 1\n",
      "39.1 \t 1\n",
      "39.0 \t 1\n",
      "35.1 \t 1\n",
      "32.3 \t 1\n",
      "37.0 \t 1\n",
      "37.7 \t 1\n",
      "34.1 \t 1\n",
      "34.7 \t 1\n",
      "34.4 \t 1\n",
      "29.9 \t 1\n",
      "33.0 \t 1\n",
      "33.7 \t 1\n",
      "32.4 \t 1\n",
      "32.9 \t 1\n",
      "31.6 \t 1\n",
      "28.1 \t 1\n",
      "30.7 \t 1\n",
      "25.4 \t 1\n",
      "24.2 \t 1\n",
      "22.4 \t 0\n",
      "26.6 \t 1\n",
      "20.2 \t 0\n",
      "17.6 \t 0\n",
      "28.0 \t 1\n",
      "27.0 \t 1\n",
      "34.0 \t 1\n",
      "31.0 \t 1\n",
      "29.0 \t 1\n",
      "27.0 \t 1\n",
      "24.0 \t 1\n",
      "36.0 \t 1\n",
      "37.0 \t 1\n",
      "31.0 \t 1\n",
      "38.0 \t 1\n",
      "36.0 \t 1\n",
      "36.0 \t 1\n",
      "36.0 \t 1\n",
      "34.0 \t 1\n",
      "38.0 \t 1\n",
      "32.0 \t 1\n",
      "38.0 \t 1\n",
      "25.0 \t 1\n",
      "38.0 \t 1\n",
      "26.0 \t 1\n",
      "22.0 \t 0\n",
      "32.0 \t 1\n",
      "36.0 \t 1\n",
      "27.0 \t 1\n",
      "27.0 \t 1\n",
      "44.0 \t 1\n",
      "32.0 \t 1\n",
      "28.0 \t 1\n",
      "31.0 \t 1\n"
     ]
    }
   ],
   "source": [
    "# list og mpg01\n",
    "mpg01 = []\n",
    "\n",
    "for i in df['mpg']:\n",
    "    if i < median:\n",
    "        mpg01.append(0)\n",
    "    else:\n",
    "        mpg01.append(1)\n",
    "\n",
    "print(\"mpg\\tmpg01\")\n",
    "for i,j in zip(df['mpg'],mpg01):\n",
    "    print(i,\"\\t\",j)"
   ]
  },
  {
   "cell_type": "code",
   "execution_count": 149,
   "metadata": {},
   "outputs": [
    {
     "name": "stdout",
     "output_type": "stream",
     "text": [
      "    mpg  cylinders  displacement  horsepower  weight  acceleration  year  \\\n",
      "0  18.0          8         307.0         130    3504          12.0    70   \n",
      "1  15.0          8         350.0         165    3693          11.5    70   \n",
      "2  18.0          8         318.0         150    3436          11.0    70   \n",
      "3  16.0          8         304.0         150    3433          12.0    70   \n",
      "4  17.0          8         302.0         140    3449          10.5    70   \n",
      "\n",
      "   origin                       name  mpg01  \n",
      "0       1  chevrolet chevelle malibu      0  \n",
      "1       1          buick skylark 320      0  \n",
      "2       1         plymouth satellite      0  \n",
      "3       1              amc rebel sst      0  \n",
      "4       1                ford torino      0  \n"
     ]
    }
   ],
   "source": [
    "df[\"mpg01\"] = mpg01\n",
    "print(df.head())"
   ]
  },
  {
   "cell_type": "code",
   "execution_count": 148,
   "metadata": {},
   "outputs": [
    {
     "data": {
      "image/png": "[encoded data removed]",
      "text/plain": [
       "<Figure size 720x504 with 1 Axes>"
      ]
     },
     "metadata": {
      "needs_background": "light"
     },
     "output_type": "display_data"
    },
    {
     "data": {
      "image/png": "[encoded data removed]",
      "text/plain": [
       "<Figure size 720x504 with 1 Axes>"
      ]
     },
     "metadata": {
      "needs_background": "light"
     },
     "output_type": "display_data"
    },
    {
     "data": {
      "image/png": "[encoded data removed]",
      "text/plain": [
       "<Figure size 720x504 with 1 Axes>"
      ]
     },
     "metadata": {
      "needs_background": "light"
     },
     "output_type": "display_data"
    }
   ],
   "source": [
    "# graphical exporation\n",
    "import matplotlib.pyplot as plt\n",
    "\n",
    "dis = df['displacement'].to_list()\n",
    "\n",
    "fig = plt.figure(figsize = (10, 7)) \n",
    "plt.scatter(dis,mpg01)\n",
    "plt.xlabel(\"Displacement\", size = 13) \n",
    "plt.ylabel(\"MPG 01\" , size = 13) \n",
    "plt.title(\"Displacement vs MPG 01\", size = 18) \n",
    "plt.show()\n",
    "\n",
    "\n",
    "hp = df['horsepower'].to_list()\n",
    "\n",
    "fig = plt.figure(figsize = (10, 7)) \n",
    "plt.scatter(hp,mpg01)\n",
    "plt.xlabel(\"Horsepower\", size = 13) \n",
    "plt.ylabel(\"MPG 01\" , size = 13) \n",
    "plt.title(\"Horsepower vs MPG 01\", size = 18) \n",
    "plt.show()\n",
    "\n",
    "wt = df['weight'].to_list()\n",
    "\n",
    "fig = plt.figure(figsize = (10, 7)) \n",
    "plt.scatter(wt,mpg01)\n",
    "plt.xlabel(\"Weight\", size = 13) \n",
    "plt.ylabel(\"MPG 01\" , size = 13) \n",
    "plt.title(\"Weight vs MPG 01\", size = 18) \n",
    "plt.show()"
   ]
  },
  {
   "cell_type": "code",
   "execution_count": 159,
   "metadata": {},
   "outputs": [
    {
     "name": "stdout",
     "output_type": "stream",
     "text": [
      "[ 70 100  70  81  95 225  90  97 100  65 110  89 150 110  95  85  97  60\n",
      "  88  52  70 198  71  90  72  63 115  90 135  52 150 170  58  96 125  92\n",
      "  95  90  95  82 110  78  67 208 105 130 150  46  90  64  75  85  72  95\n",
      "  90 145  88 167 120 190  78  49  86 150  70 107  80 150 105 100 145  80\n",
      " 133 105 105  68 100 110 100 150 110  81 130 112  80 116  72 100  75 105\n",
      "  90 140 140  70  85  53  88 110  75  76  62  62 210 150  92 150  78  92\n",
      " 150 150 110  97  95 103 110  88 120 139  90 165 110 100  65 215  85  83\n",
      "  97  67 150  88 115  86  75  63 150 225 100 150  67 132 110 170  95  88\n",
      " 100  84  91  78 152 108  90  90  67 148  72  97 140 112  94  65 102  84\n",
      "  83  67  84 140 105  95 165  83 155  90 140  60 170  85  69  46  98  70\n",
      " 150  70 100  87  83  77  68  96  92  65  92 110 160  71 145  97 100  88\n",
      "  54 180  85  70 120  90  65  48 180 130 175 125  75 120 113 175 130  71\n",
      "  88 100  67 115 105 225  85 175  65  96 190 115  86  88  85 180  93  61\n",
      "  86 100  74  79 139  75 175 110  74 110 158  80  75 112  71  80 105  85\n",
      "  65 170 180 125  68 175  69  58  80 150 193  79 110 105  52  70  95 100\n",
      "  67 140  88 142  80  97 138  88  98  88  84  84 100  66 230  95 130  72\n",
      " 215  75 110  70  90  67 153  52  90 150  97 137  65  48  68 145 190 105\n",
      "  70  95  48  90  75  88  97]\n",
      "\n",
      "training dataset length =  313\n"
     ]
    }
   ],
   "source": [
    "# Splitting the dataset into training and test set\n",
    "# training set (80 %)\n",
    "# test set (20 %)\n",
    "\n",
    "import numpy as np \n",
    "from sklearn.model_selection import train_test_split\n",
    "\n",
    "x = df.iloc[:, 3].values \n",
    "y = df.iloc[:, 9].values \n",
    "\n",
    "xtrain, xtest, ytrain, ytest = train_test_split(x, y, test_size = 0.20, random_state = 0) \n",
    "\n",
    "print(xtrain)\n",
    "print(\"\\ntraining dataset length = \",len(xtrain))\n"
   ]
  },
  {
   "cell_type": "markdown",
   "metadata": {},
   "source": [
    "## Question 2"
   ]
  },
  {
   "cell_type": "code",
   "execution_count": 46,
   "metadata": {},
   "outputs": [
    {
     "name": "stdout",
     "output_type": "stream",
     "text": [
      "8\n"
     ]
    }
   ],
   "source": [
    "# power function\n",
    "\n",
    "def Power():\n",
    "    prod = 1\n",
    "    for i in range(3):\n",
    "        prod = prod * 2\n",
    "    print(prod)\n",
    "    \n",
    "Power()"
   ]
  },
  {
   "cell_type": "code",
   "execution_count": 52,
   "metadata": {},
   "outputs": [
    {
     "name": "stdout",
     "output_type": "stream",
     "text": [
      "81\n"
     ]
    }
   ],
   "source": [
    "# power3 fuction where <x> is base and <a> is its power\n",
    "def Power3(x,a):\n",
    "    prod = 1\n",
    "    for i in range(a):\n",
    "        prod = prod * x\n",
    "    return prod\n",
    "        \n",
    "    \n",
    "print(Power3(9,2))"
   ]
  },
  {
   "cell_type": "code",
   "execution_count": 89,
   "metadata": {},
   "outputs": [
    {
     "name": "stdout",
     "output_type": "stream",
     "text": [
      "x =  [1, 2, 3, 4, 5, 6, 7, 8, 9, 10] \n",
      " y =  [1, 4, 9, 16, 25, 36, 49, 64, 81, 100]\n",
      "\n"
     ]
    }
   ],
   "source": [
    "x_axis = [i+1 for i in range(10)]\n",
    "y_axis = [Power3(i,2) for i in x_axis]\n",
    "print(\"x = \",x_axis,\"\\n y = \",y_axis)\n",
    "print()"
   ]
  },
  {
   "cell_type": "code",
   "execution_count": 88,
   "metadata": {},
   "outputs": [
    {
     "data": {
      "image/png": "[encoded data removed]",
      "text/plain": [
       "<Figure size 720x504 with 1 Axes>"
      ]
     },
     "metadata": {
      "needs_background": "light"
     },
     "output_type": "display_data"
    }
   ],
   "source": [
    "# plotting normally scaled values\n",
    "fig = plt.figure(figsize = (10, 7)) \n",
    "plt.plot(x_axis, y_axis)\n",
    "plt.xlabel(\"X = [1 to 10]\", size = 13) \n",
    "plt.ylabel(\"F(X) = X^2\" , size = 13) \n",
    "plt.title(\"Normally Scaled (X vs X^2)\", size = 18) \n",
    "plt.show()"
   ]
  },
  {
   "cell_type": "code",
   "execution_count": 90,
   "metadata": {},
   "outputs": [
    {
     "data": {
      "image/png": "[encoded data removed]",
      "text/plain": [
       "<Figure size 720x504 with 1 Axes>"
      ]
     },
     "metadata": {
      "needs_background": "light"
     },
     "output_type": "display_data"
    }
   ],
   "source": [
    "# plotting Logarithmically scaled values\n",
    "import math\n",
    "log_x = [math.log(i) for i in x_axis]\n",
    "log_y = [math.log(i) for i in y_axis]\n",
    "fig = plt.figure(figsize = (10, 7)) \n",
    "plt.plot(log_x,log_y)\n",
    "plt.xlabel(\"X = [1 to 10]\", size = 13) \n",
    "plt.ylabel(\"F(X) = X^2\" , size = 13) \n",
    "plt.title(\"Logarithmically Scaled (X vs X^2)\", size = 18) \n",
    "plt.show()"
   ]
  }
 ],
 "metadata": {
  "kernelspec": {
   "display_name": "Python 3",
   "language": "python",
   "name": "python3"
  },
  "language_info": {
   "codemirror_mode": {
    "name": "ipython",
    "version": 3
   },
   "file_extension": ".py",
   "mimetype": "text/x-python",
   "name": "python",
   "nbconvert_exporter": "python",
   "pygments_lexer": "ipython3",
   "version": "3.8.2"
  }
 },
 "nbformat": 4,
 "nbformat_minor": 4
}
